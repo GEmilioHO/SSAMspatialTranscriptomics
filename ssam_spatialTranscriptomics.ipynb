{
 "cells": [
  {
   "cell_type": "markdown",
   "id": "eedefc23",
   "metadata": {},
   "source": [
    "# SSAM Spatial Transcriptomics\n",
    "Author: **Gabriel Emilio Herrera Oropeza** <br/>\n",
    "Date: 07/10/2021"
   ]
  },
  {
   "cell_type": "markdown",
   "id": "35a5f6d2",
   "metadata": {},
   "source": [
    "### Import Libraries"
   ]
  },
  {
   "cell_type": "code",
   "execution_count": null,
   "id": "d007a99f",
   "metadata": {},
   "outputs": [],
   "source": [
    "import numpy as np\n",
    "import pandas as pd\n",
    "import matplotlib.pyplot as plt\n",
    "import ssam\n",
    "from matplotlib.path import Path\n",
    "from matplotlib.patches import Polygon\n",
    "from matplotlib.collections import PatchCollection\n",
    "from matplotlib_scalebar.scalebar import ScaleBar\n",
    "from tqdm import tqdm\n",
    "import random\n",
    "from matplotlib.colors import ListedColormap"
   ]
  },
  {
   "cell_type": "markdown",
   "id": "30a3be36",
   "metadata": {},
   "source": [
    "### Read Data"
   ]
  },
  {
   "cell_type": "code",
   "execution_count": null,
   "id": "e96845fe",
   "metadata": {},
   "outputs": [],
   "source": [
    "data = pd.read_csv(\"/Volumes/emilio_passport/wellcome/rotations/spagnoli/data/reads_Sample1a_LowThreshold_CARTANA2002901_20190702.csv\")"
   ]
  },
  {
   "cell_type": "markdown",
   "id": "e95b75ee",
   "metadata": {},
   "source": [
    "### Transform Data\n",
    "Because SSAM analysis is rooted in a cellular scale we transform the coordinates from a laboratory system into micrometers."
   ]
  },
  {
   "cell_type": "code",
   "execution_count": null,
   "id": "127c7562",
   "metadata": {},
   "outputs": [],
   "source": [
    "um_per_pixel = 0.165"
   ]
  },
  {
   "cell_type": "code",
   "execution_count": null,
   "id": "cb8a2bf6",
   "metadata": {},
   "outputs": [],
   "source": [
    "data.X = (data.X - data.X.min()) * um_per_pixel + 10\n",
    "data.Y = (data.Y - data.Y.min()) * um_per_pixel + 10"
   ]
  },
  {
   "cell_type": "markdown",
   "id": "d044d434",
   "metadata": {},
   "source": [
    "### Prepare data"
   ]
  },
  {
   "cell_type": "code",
   "execution_count": null,
   "id": "717efb10",
   "metadata": {},
   "outputs": [],
   "source": [
    "width = data.X.max() - data.X.min() + 10\n",
    "height = data.Y.max() - data.Y.min() + 10"
   ]
  },
  {
   "cell_type": "code",
   "execution_count": null,
   "id": "f4805d03",
   "metadata": {},
   "outputs": [],
   "source": [
    "grouped = data.groupby('gene').agg(list)\n",
    "genes = list(grouped.index)"
   ]
  },
  {
   "cell_type": "code",
   "execution_count": null,
   "id": "af3a739b",
   "metadata": {},
   "outputs": [],
   "source": [
    "coord_list = []\n",
    "for target, coords in tqdm(grouped.iterrows(), total = grouped.shape[0]):\n",
    "    coord_list.append(np.array(list(zip(*coords))))"
   ]
  },
  {
   "cell_type": "markdown",
   "id": "cb82e2d8",
   "metadata": {},
   "source": [
    "### Create the SSAMDataset object"
   ]
  },
  {
   "cell_type": "code",
   "execution_count": null,
   "id": "ddaf831b",
   "metadata": {},
   "outputs": [],
   "source": [
    "ds = ssam.SSAMDataset(genes, coord_list, width, height)"
   ]
  },
  {
   "cell_type": "markdown",
   "id": "a3483ef4",
   "metadata": {},
   "source": [
    "### Create vector field"
   ]
  },
  {
   "cell_type": "code",
   "execution_count": null,
   "id": "0092746c",
   "metadata": {},
   "outputs": [],
   "source": [
    "analysis = ssam.SSAMAnalysis(\n",
    "    ds,\n",
    "    ncores = 10, # used for kde step\n",
    "    save_dir = \"../data/ssam_approach/\",\n",
    "    verbose = True\n",
    ")"
   ]
  },
  {
   "cell_type": "code",
   "execution_count": null,
   "id": "5a42b540",
   "metadata": {},
   "outputs": [],
   "source": [
    "analysis.run_kde(bandwidth = 2.5, use_mmap = False)"
   ]
  },
  {
   "cell_type": "markdown",
   "id": "f78605ae",
   "metadata": {},
   "source": [
    "### Create Mask"
   ]
  },
  {
   "cell_type": "code",
   "execution_count": null,
   "id": "9c39c1ad",
   "metadata": {},
   "outputs": [],
   "source": [
    "# Define coordinate of area of interest\n",
    "low_xlim = 1600\n",
    "high_xlim = 2300\n",
    "low_ylim = 2600\n",
    "high_ylim = 1900"
   ]
  },
  {
   "cell_type": "code",
   "execution_count": null,
   "id": "2a698ece",
   "metadata": {},
   "outputs": [],
   "source": [
    "# Manual area annotation\n",
    "xy = np.array([[low_xlim, high_ylim],\n",
    "               [high_xlim, high_ylim],\n",
    "               [high_xlim, low_ylim],\n",
    "               [low_xlim, low_ylim]])\n",
    "\n",
    "# Extract coordinates from SSAMDataset\n",
    "x, y = np.meshgrid(np.arange(ds.vf.shape[0]), np.arange(ds.vf.shape[1]))\n",
    "x, y = x.flatten(), y.flatten()\n",
    "points = np.vstack((x,y)).T\n",
    "\n",
    "path = Path(xy)\n",
    "input_mask = path.contains_points(points)\n",
    "input_mask = input_mask.reshape((ds.vf.shape[1], ds.vf.shape[0], 1)).swapaxes(0, 1)\n",
    "output_mask = input_mask"
   ]
  },
  {
   "cell_type": "code",
   "execution_count": null,
   "id": "e1d692eb",
   "metadata": {},
   "outputs": [],
   "source": [
    "# Show figure with area of interest\n",
    "patch = Polygon(xy, True)\n",
    "p = PatchCollection([patch], alpha=0.4)\n",
    "\n",
    "plt.figure(figsize=[8, 8])\n",
    "ds.plot_l1norm(cmap=\"Greys\",rotate = 1)\n",
    "plt.gca().add_collection(p)\n",
    "plt.gca().invert_xaxis() \n",
    "plt.axis('off')\n",
    "plt.tight_layout()\n",
    "plt.savefig('../figures/ssam_sample1a_regionInt.pdf', dpi = 500)\n",
    "plt.show()"
   ]
  },
  {
   "cell_type": "markdown",
   "id": "c8d3b38c",
   "metadata": {},
   "source": [
    "### Find local maxima"
   ]
  },
  {
   "cell_type": "code",
   "execution_count": null,
   "id": "1da59540",
   "metadata": {},
   "outputs": [],
   "source": [
    "analysis.find_localmax(\n",
    "    search_size=3,\n",
    "    #min_norm=0.2, # the total gene expression threshold\n",
    "    #min_expression=0.2, # the per gene expression threshold\n",
    "    mask=input_mask, \n",
    "    )"
   ]
  },
  {
   "cell_type": "code",
   "execution_count": null,
   "id": "ebc1a30b",
   "metadata": {},
   "outputs": [],
   "source": [
    "# Plot local maxima \n",
    "plt.figure(figsize=[8, 8])\n",
    "ds.plot_l1norm(cmap=\"Greys\",rotate = 1)\n",
    "ds.plot_localmax(c=\"Blue\", s=0.1, rotate = 1)\n",
    "\n",
    "patch = Polygon(xy, facecolor=\"black\", edgecolor=\"red\", linewidth=10, ls=\"-\")\n",
    "p = PatchCollection([patch], alpha=0.4)\n",
    "plt.gca().add_collection(p)\n",
    "\n",
    "scalebar = ScaleBar(1, 'um') # 1 pixel = 1um\n",
    "plt.gca().add_artist(scalebar)\n",
    "plt.gca().invert_xaxis() \n",
    "plt.tight_layout()\n",
    "plt.axis('off')\n",
    "plt.savefig('../figures/ssam_sample1a_localMax.pdf', dpi = 500)\n",
    "plt.show()"
   ]
  },
  {
   "cell_type": "markdown",
   "id": "b9e92c14",
   "metadata": {},
   "source": [
    "### Normalise vectors"
   ]
  },
  {
   "cell_type": "code",
   "execution_count": null,
   "id": "23032b3c",
   "metadata": {},
   "outputs": [],
   "source": [
    "analysis.normalize_vectors_sctransform()"
   ]
  },
  {
   "cell_type": "markdown",
   "id": "aa889b52",
   "metadata": {},
   "source": [
    "### Find clusters"
   ]
  },
  {
   "cell_type": "code",
   "execution_count": null,
   "id": "cd286435",
   "metadata": {},
   "outputs": [],
   "source": [
    "# Clustering uses the Louvain method\n",
    "analysis.cluster_vectors(\n",
    "    min_cluster_size = 0,\n",
    "    pca_dims = 11,\n",
    "    resolution = 0.6,\n",
    "    metric = 'correlation')"
   ]
  },
  {
   "cell_type": "code",
   "execution_count": null,
   "id": "a3006292",
   "metadata": {},
   "outputs": [],
   "source": [
    "# Function for generating random colours for clusters\n",
    "def colors_(n):\n",
    "    colors = []\n",
    "    for j in range(n):\n",
    "        rand_color = \"#\"+''.join([random.choice('ABCDEF0123456789') for i in range(6)])\n",
    "        colors.append(rand_color)\n",
    "    return colors"
   ]
  },
  {
   "cell_type": "code",
   "execution_count": null,
   "id": "742d0dc6",
   "metadata": {},
   "outputs": [],
   "source": [
    "# Generate a random color for each cluster\n",
    "colors_list = colors_(n = 23)"
   ]
  },
  {
   "cell_type": "code",
   "execution_count": null,
   "id": "f9597e68",
   "metadata": {},
   "outputs": [],
   "source": [
    "# Plot tSNE with clusters\n",
    "plt.figure(figsize=[10, 8])\n",
    "ds.plot_tsne(pca_dims = 11, metric = \"correlation\", s = 5, run_tsne = True, colors = colors_list)\n",
    "dct_legend = {}\n",
    "for n, c in enumerate(colors_list):\n",
    "    dct_legend[n] = plt.scatter([], [], color = c)\n",
    "\n",
    "plt.title(\"tSNE - Louvain Clustering\")\n",
    "plt.legend([v for k, v in dct_legend.items()], [str(int(k)) for k, v in dct_legend.items()], bbox_to_anchor = (1.02, 1), loc = 'upper left')\n",
    "plt.tight_layout()\n",
    "plt.savefig('../figures/ssam_sample1a_tSNE.pdf', dpi = 500)\n",
    "plt.show()"
   ]
  },
  {
   "cell_type": "code",
   "execution_count": null,
   "id": "d3d0a8aa",
   "metadata": {},
   "outputs": [],
   "source": [
    "# Plot UMAP with clusters\n",
    "plt.figure(figsize=[10, 8])\n",
    "ds.plot_umap(run_umap = False,\n",
    "             pca_dims = 11, \n",
    "             metric = 'correlation',\n",
    "             exclude_bad_clusters = True,\n",
    "             s = 5,\n",
    "             colors = colors_list\n",
    "         )\n",
    "dct_legend = {}\n",
    "for n, c in enumerate(colors_list):\n",
    "    dct_legend[n] = plt.scatter([], [], color = c)\n",
    "    \n",
    "plt.title(\"UMAP - Louvain Clustering\")\n",
    "plt.legend([v for k, v in dct_legend.items()], [str(int(k)) for k, v in dct_legend.items()], bbox_to_anchor = (1.02, 1), loc = 'upper left')\n",
    "plt.tight_layout()\n",
    "plt.savefig('../figures/ssam_sample1a_UMAP.pdf', dpi = 500)\n",
    "plt.show()"
   ]
  },
  {
   "cell_type": "markdown",
   "id": "ede72eae",
   "metadata": {},
   "source": [
    "### Cell types identification"
   ]
  },
  {
   "cell_type": "code",
   "execution_count": null,
   "id": "665d63c2",
   "metadata": {},
   "outputs": [],
   "source": [
    "# Map cell types using clustering\n",
    "analysis.map_celltypes()\n",
    "\n",
    "filter_params = {\n",
    "    \"block_size\": 151,\n",
    "    \"method\": \"mean\",\n",
    "    \"mode\": \"constant\",\n",
    "    \"offset\": 0.2\n",
    "    }\n",
    "\n",
    "analysis.filter_celltypemaps(min_norm = 0.01, \n",
    "                             #filter_params=filter_params, \n",
    "                             min_r=0.6, \n",
    "                             fill_blobs=True, \n",
    "                             min_blob_area=10, \n",
    "                             output_mask=output_mask\n",
    "                            )"
   ]
  },
  {
   "cell_type": "code",
   "execution_count": null,
   "id": "f706c64e",
   "metadata": {},
   "outputs": [],
   "source": [
    "# Plot cell types according to clusters\n",
    "plt.figure(figsize=[8, 8])\n",
    "ds.plot_celltypes_map(rotate=1, set_alpha=False, colors = colors_list)\n",
    "plt.axis('off')\n",
    "plt.gca().invert_xaxis()\n",
    "plt.ylim(2600, 1900)\n",
    "plt.xlim(1600, 2300)\n",
    "plt.title(\"In Situ Clusters\")\n",
    "plt.tight_layout()\n",
    "plt.savefig('../figures/ssam_sample1a_insituClusters.pdf', dpi = 500)\n",
    "plt.show()"
   ]
  },
  {
   "cell_type": "markdown",
   "id": "46db9cb8",
   "metadata": {},
   "source": [
    "### Plot modified-diagnostic plot\n",
    "As the original function only allowed to do this plot when scRNAseq data was available, I modified the function so it could be shown just for spatial transcriptomics data."
   ]
  },
  {
   "cell_type": "code",
   "execution_count": null,
   "id": "89fe259c",
   "metadata": {},
   "outputs": [],
   "source": [
    "for n, c in enumerate(ds.centroids):\n",
    "    plt.figure(figsize=[50, 15])\n",
    "    ds.plot_mod_diagnostic_plot(n,\n",
    "                                low_ylim,\n",
    "                                high_ylim,  \n",
    "                                low_xlim, \n",
    "                                high_xlim,\n",
    "                                cluster_color=colors_list[n], \n",
    "                                use_embedding=\"tsne\", \n",
    "                                rotate = 1\n",
    "                               )\n",
    "    plt.tight_layout()\n",
    "    plt.savefig(f'../figures/ssam_sample1a_diagnosticPlot_c{n}.pdf', dpi = 500)\n",
    "    plt.show()"
   ]
  },
  {
   "cell_type": "markdown",
   "id": "815d22e1",
   "metadata": {},
   "source": [
    "### Find tissue domains"
   ]
  },
  {
   "cell_type": "code",
   "execution_count": null,
   "id": "c75b8fa5",
   "metadata": {},
   "outputs": [],
   "source": [
    "analysis.bin_celltypemaps(step = 10, radius = 100)"
   ]
  },
  {
   "cell_type": "code",
   "execution_count": null,
   "id": "d17b1532",
   "metadata": {},
   "outputs": [],
   "source": [
    "analysis.find_domains(#n_clusters=20, \n",
    "    merge_remote=True, \n",
    "    merge_thres=0.7, \n",
    "    norm_thres=1500\n",
    ")"
   ]
  },
  {
   "cell_type": "code",
   "execution_count": null,
   "id": "ba490ce3",
   "metadata": {},
   "outputs": [],
   "source": [
    "# Plot domains individually\n",
    "cmap_jet = plt.get_cmap('jet')\n",
    "num_domains = np.max(ds.inferred_domains_cells) + 1\n",
    "\n",
    "fig, axs = plt.subplots(1, num_domains, figsize=(4*num_domains, 4))\n",
    "for domain_idx in tqdm(range(num_domains)):\n",
    "    ax = axs[domain_idx]\n",
    "    plt.sca(ax)\n",
    "    plt.axis('off')\n",
    "    cmap = ListedColormap([cmap_jet(lbl_idx / num_domains) if domain_idx == lbl_idx else \"#cccccc\" for lbl_idx in range(num_domains)])\n",
    "    ds.plot_domains(rotate=1, cmap=cmap)\n",
    "    ax.set_ylim(2600, 1900)\n",
    "    ax.set_xlim(1600, 2300)\n",
    "    ax.set_title(f\"Tissue Domain {domain_idx + 1}\")\n",
    "plt.tight_layout()\n",
    "plt.savefig('../figures/ssam_sample1a_tissueDomains.pdf', dpi = 500)"
   ]
  },
  {
   "cell_type": "code",
   "execution_count": null,
   "id": "a2f0d08a",
   "metadata": {},
   "outputs": [],
   "source": [
    "# Plot merged domains\n",
    "plt.figure(figsize=[5, 5])\n",
    "ds.plot_domains(rotate=1)\n",
    "plt.ylim(2600, 1900)\n",
    "plt.xlim(1600, 2300)\n",
    "plt.axis('off')\n",
    "plt.tight_layout()\n",
    "plt.savefig('../figures/ssam_sample1a_tissueDomainsMerge.pdf', dpi = 500)\n",
    "plt.show()"
   ]
  },
  {
   "cell_type": "code",
   "execution_count": null,
   "id": "fc12edba",
   "metadata": {},
   "outputs": [],
   "source": []
  }
 ],
 "metadata": {
  "kernelspec": {
   "display_name": "Python 3 (ipykernel)",
   "language": "python",
   "name": "python3"
  },
  "language_info": {
   "codemirror_mode": {
    "name": "ipython",
    "version": 3
   },
   "file_extension": ".py",
   "mimetype": "text/x-python",
   "name": "python",
   "nbconvert_exporter": "python",
   "pygments_lexer": "ipython3",
   "version": "3.8.6"
  }
 },
 "nbformat": 4,
 "nbformat_minor": 5
}
